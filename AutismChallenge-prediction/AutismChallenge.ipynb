{
 "cells": [
  {
   "cell_type": "code",
   "execution_count": 1,
   "metadata": {},
   "outputs": [],
   "source": [
    "import pandas as pd\n",
    "import numpy as np\n"
   ]
  },
  {
   "cell_type": "code",
   "execution_count": 2,
   "metadata": {},
   "outputs": [],
   "source": [
    "data_anatomy = pd.read_csv('anatomy.csv')"
   ]
  },
  {
   "cell_type": "code",
   "execution_count": 3,
   "metadata": {},
   "outputs": [
    {
     "data": {
      "text/html": [
       "<div>\n",
       "<style scoped>\n",
       "    .dataframe tbody tr th:only-of-type {\n",
       "        vertical-align: middle;\n",
       "    }\n",
       "\n",
       "    .dataframe tbody tr th {\n",
       "        vertical-align: top;\n",
       "    }\n",
       "\n",
       "    .dataframe thead th {\n",
       "        text-align: right;\n",
       "    }\n",
       "</style>\n",
       "<table border=\"1\" class=\"dataframe\">\n",
       "  <thead>\n",
       "    <tr style=\"text-align: right;\">\n",
       "      <th></th>\n",
       "      <th>subject_id</th>\n",
       "      <th>lh_bankssts_area</th>\n",
       "      <th>lh_caudalanteriorcingulate_area</th>\n",
       "      <th>lh_caudalmiddlefrontal_area</th>\n",
       "      <th>lh_cuneus_area</th>\n",
       "      <th>lh_entorhinal_area</th>\n",
       "      <th>lh_fusiform_area</th>\n",
       "      <th>lh_inferiorparietal_area</th>\n",
       "      <th>lh_inferiortemporal_area</th>\n",
       "      <th>lh_isthmuscingulate_area</th>\n",
       "      <th>...</th>\n",
       "      <th>BrainSegVol-to-eTIV</th>\n",
       "      <th>MaskVol-to-eTIV</th>\n",
       "      <th>lhSurfaceHoles</th>\n",
       "      <th>rhSurfaceHoles</th>\n",
       "      <th>SurfaceHoles</th>\n",
       "      <th>EstimatedTotalIntraCranialVol</th>\n",
       "      <th>eTIV</th>\n",
       "      <th>BrainSegVolNotVent</th>\n",
       "      <th>age</th>\n",
       "      <th>asd</th>\n",
       "    </tr>\n",
       "  </thead>\n",
       "  <tbody>\n",
       "    <tr>\n",
       "      <th>0</th>\n",
       "      <td>1.828198e+19</td>\n",
       "      <td>1006</td>\n",
       "      <td>613</td>\n",
       "      <td>2249</td>\n",
       "      <td>1436</td>\n",
       "      <td>518</td>\n",
       "      <td>3659</td>\n",
       "      <td>5147</td>\n",
       "      <td>3496</td>\n",
       "      <td>1288</td>\n",
       "      <td>...</td>\n",
       "      <td>0.815125</td>\n",
       "      <td>1.051112</td>\n",
       "      <td>55</td>\n",
       "      <td>47</td>\n",
       "      <td>102</td>\n",
       "      <td>1616394.387</td>\n",
       "      <td>1616394.387</td>\n",
       "      <td>1305905</td>\n",
       "      <td>13.37</td>\n",
       "      <td>1</td>\n",
       "    </tr>\n",
       "    <tr>\n",
       "      <th>1</th>\n",
       "      <td>2.691648e+18</td>\n",
       "      <td>1143</td>\n",
       "      <td>812</td>\n",
       "      <td>3064</td>\n",
       "      <td>1580</td>\n",
       "      <td>558</td>\n",
       "      <td>3770</td>\n",
       "      <td>5791</td>\n",
       "      <td>4406</td>\n",
       "      <td>1167</td>\n",
       "      <td>...</td>\n",
       "      <td>0.744308</td>\n",
       "      <td>0.998352</td>\n",
       "      <td>91</td>\n",
       "      <td>81</td>\n",
       "      <td>172</td>\n",
       "      <td>2048198.334</td>\n",
       "      <td>2048198.334</td>\n",
       "      <td>1492984</td>\n",
       "      <td>17.78</td>\n",
       "      <td>1</td>\n",
       "    </tr>\n",
       "    <tr>\n",
       "      <th>2</th>\n",
       "      <td>1.731217e+19</td>\n",
       "      <td>1374</td>\n",
       "      <td>752</td>\n",
       "      <td>2315</td>\n",
       "      <td>1722</td>\n",
       "      <td>405</td>\n",
       "      <td>3401</td>\n",
       "      <td>4870</td>\n",
       "      <td>3677</td>\n",
       "      <td>1027</td>\n",
       "      <td>...</td>\n",
       "      <td>0.793417</td>\n",
       "      <td>1.149984</td>\n",
       "      <td>30</td>\n",
       "      <td>42</td>\n",
       "      <td>72</td>\n",
       "      <td>1558102.769</td>\n",
       "      <td>1558102.769</td>\n",
       "      <td>1212515</td>\n",
       "      <td>32.45</td>\n",
       "      <td>1</td>\n",
       "    </tr>\n",
       "    <tr>\n",
       "      <th>3</th>\n",
       "      <td>1.594193e+19</td>\n",
       "      <td>995</td>\n",
       "      <td>330</td>\n",
       "      <td>1984</td>\n",
       "      <td>1446</td>\n",
       "      <td>462</td>\n",
       "      <td>3667</td>\n",
       "      <td>5421</td>\n",
       "      <td>3527</td>\n",
       "      <td>1275</td>\n",
       "      <td>...</td>\n",
       "      <td>0.722312</td>\n",
       "      <td>0.990833</td>\n",
       "      <td>58</td>\n",
       "      <td>57</td>\n",
       "      <td>115</td>\n",
       "      <td>1919229.726</td>\n",
       "      <td>1919229.726</td>\n",
       "      <td>1308834</td>\n",
       "      <td>33.86</td>\n",
       "      <td>1</td>\n",
       "    </tr>\n",
       "    <tr>\n",
       "      <th>4</th>\n",
       "      <td>9.213982e+18</td>\n",
       "      <td>728</td>\n",
       "      <td>397</td>\n",
       "      <td>1445</td>\n",
       "      <td>1433</td>\n",
       "      <td>340</td>\n",
       "      <td>2417</td>\n",
       "      <td>2962</td>\n",
       "      <td>1989</td>\n",
       "      <td>677</td>\n",
       "      <td>...</td>\n",
       "      <td>0.754929</td>\n",
       "      <td>1.090306</td>\n",
       "      <td>37</td>\n",
       "      <td>21</td>\n",
       "      <td>58</td>\n",
       "      <td>1185229.203</td>\n",
       "      <td>1185229.203</td>\n",
       "      <td>881253</td>\n",
       "      <td>35.20</td>\n",
       "      <td>1</td>\n",
       "    </tr>\n",
       "  </tbody>\n",
       "</table>\n",
       "<p>5 rows × 210 columns</p>\n",
       "</div>"
      ],
      "text/plain": [
       "     subject_id  lh_bankssts_area  lh_caudalanteriorcingulate_area  \\\n",
       "0  1.828198e+19              1006                              613   \n",
       "1  2.691648e+18              1143                              812   \n",
       "2  1.731217e+19              1374                              752   \n",
       "3  1.594193e+19               995                              330   \n",
       "4  9.213982e+18               728                              397   \n",
       "\n",
       "   lh_caudalmiddlefrontal_area  lh_cuneus_area  lh_entorhinal_area  \\\n",
       "0                         2249            1436                 518   \n",
       "1                         3064            1580                 558   \n",
       "2                         2315            1722                 405   \n",
       "3                         1984            1446                 462   \n",
       "4                         1445            1433                 340   \n",
       "\n",
       "   lh_fusiform_area  lh_inferiorparietal_area  lh_inferiortemporal_area  \\\n",
       "0              3659                      5147                      3496   \n",
       "1              3770                      5791                      4406   \n",
       "2              3401                      4870                      3677   \n",
       "3              3667                      5421                      3527   \n",
       "4              2417                      2962                      1989   \n",
       "\n",
       "   lh_isthmuscingulate_area ...   BrainSegVol-to-eTIV  MaskVol-to-eTIV  \\\n",
       "0                      1288 ...              0.815125         1.051112   \n",
       "1                      1167 ...              0.744308         0.998352   \n",
       "2                      1027 ...              0.793417         1.149984   \n",
       "3                      1275 ...              0.722312         0.990833   \n",
       "4                       677 ...              0.754929         1.090306   \n",
       "\n",
       "   lhSurfaceHoles  rhSurfaceHoles  SurfaceHoles  \\\n",
       "0              55              47           102   \n",
       "1              91              81           172   \n",
       "2              30              42            72   \n",
       "3              58              57           115   \n",
       "4              37              21            58   \n",
       "\n",
       "   EstimatedTotalIntraCranialVol         eTIV  BrainSegVolNotVent    age  asd  \n",
       "0                    1616394.387  1616394.387             1305905  13.37    1  \n",
       "1                    2048198.334  2048198.334             1492984  17.78    1  \n",
       "2                    1558102.769  1558102.769             1212515  32.45    1  \n",
       "3                    1919229.726  1919229.726             1308834  33.86    1  \n",
       "4                    1185229.203  1185229.203              881253  35.20    1  \n",
       "\n",
       "[5 rows x 210 columns]"
      ]
     },
     "execution_count": 3,
     "metadata": {},
     "output_type": "execute_result"
    }
   ],
   "source": [
    "data_anatomy.head()"
   ]
  },
  {
   "cell_type": "code",
   "execution_count": 4,
   "metadata": {},
   "outputs": [
    {
     "data": {
      "text/html": [
       "<div>\n",
       "<style scoped>\n",
       "    .dataframe tbody tr th:only-of-type {\n",
       "        vertical-align: middle;\n",
       "    }\n",
       "\n",
       "    .dataframe tbody tr th {\n",
       "        vertical-align: top;\n",
       "    }\n",
       "\n",
       "    .dataframe thead th {\n",
       "        text-align: right;\n",
       "    }\n",
       "</style>\n",
       "<table border=\"1\" class=\"dataframe\">\n",
       "  <thead>\n",
       "    <tr style=\"text-align: right;\">\n",
       "      <th></th>\n",
       "      <th>subject_id</th>\n",
       "      <th>lh_bankssts_area</th>\n",
       "      <th>lh_caudalanteriorcingulate_area</th>\n",
       "      <th>lh_caudalmiddlefrontal_area</th>\n",
       "      <th>lh_cuneus_area</th>\n",
       "      <th>lh_entorhinal_area</th>\n",
       "      <th>lh_fusiform_area</th>\n",
       "      <th>lh_inferiorparietal_area</th>\n",
       "      <th>lh_inferiortemporal_area</th>\n",
       "      <th>lh_isthmuscingulate_area</th>\n",
       "      <th>...</th>\n",
       "      <th>BrainSegVol-to-eTIV</th>\n",
       "      <th>MaskVol-to-eTIV</th>\n",
       "      <th>lhSurfaceHoles</th>\n",
       "      <th>rhSurfaceHoles</th>\n",
       "      <th>SurfaceHoles</th>\n",
       "      <th>EstimatedTotalIntraCranialVol</th>\n",
       "      <th>eTIV</th>\n",
       "      <th>BrainSegVolNotVent</th>\n",
       "      <th>age</th>\n",
       "      <th>asd</th>\n",
       "    </tr>\n",
       "  </thead>\n",
       "  <tbody>\n",
       "    <tr>\n",
       "      <th>0</th>\n",
       "      <td>1.828198e+19</td>\n",
       "      <td>1006</td>\n",
       "      <td>613</td>\n",
       "      <td>2249</td>\n",
       "      <td>1436</td>\n",
       "      <td>518</td>\n",
       "      <td>3659</td>\n",
       "      <td>5147</td>\n",
       "      <td>3496</td>\n",
       "      <td>1288</td>\n",
       "      <td>...</td>\n",
       "      <td>0.815125</td>\n",
       "      <td>1.051112</td>\n",
       "      <td>55</td>\n",
       "      <td>47</td>\n",
       "      <td>102</td>\n",
       "      <td>1616394.387</td>\n",
       "      <td>1616394.387</td>\n",
       "      <td>1305905</td>\n",
       "      <td>13.37</td>\n",
       "      <td>1</td>\n",
       "    </tr>\n",
       "    <tr>\n",
       "      <th>1</th>\n",
       "      <td>2.691648e+18</td>\n",
       "      <td>1143</td>\n",
       "      <td>812</td>\n",
       "      <td>3064</td>\n",
       "      <td>1580</td>\n",
       "      <td>558</td>\n",
       "      <td>3770</td>\n",
       "      <td>5791</td>\n",
       "      <td>4406</td>\n",
       "      <td>1167</td>\n",
       "      <td>...</td>\n",
       "      <td>0.744308</td>\n",
       "      <td>0.998352</td>\n",
       "      <td>91</td>\n",
       "      <td>81</td>\n",
       "      <td>172</td>\n",
       "      <td>2048198.334</td>\n",
       "      <td>2048198.334</td>\n",
       "      <td>1492984</td>\n",
       "      <td>17.78</td>\n",
       "      <td>1</td>\n",
       "    </tr>\n",
       "    <tr>\n",
       "      <th>2</th>\n",
       "      <td>1.731217e+19</td>\n",
       "      <td>1374</td>\n",
       "      <td>752</td>\n",
       "      <td>2315</td>\n",
       "      <td>1722</td>\n",
       "      <td>405</td>\n",
       "      <td>3401</td>\n",
       "      <td>4870</td>\n",
       "      <td>3677</td>\n",
       "      <td>1027</td>\n",
       "      <td>...</td>\n",
       "      <td>0.793417</td>\n",
       "      <td>1.149984</td>\n",
       "      <td>30</td>\n",
       "      <td>42</td>\n",
       "      <td>72</td>\n",
       "      <td>1558102.769</td>\n",
       "      <td>1558102.769</td>\n",
       "      <td>1212515</td>\n",
       "      <td>32.45</td>\n",
       "      <td>1</td>\n",
       "    </tr>\n",
       "    <tr>\n",
       "      <th>3</th>\n",
       "      <td>1.594193e+19</td>\n",
       "      <td>995</td>\n",
       "      <td>330</td>\n",
       "      <td>1984</td>\n",
       "      <td>1446</td>\n",
       "      <td>462</td>\n",
       "      <td>3667</td>\n",
       "      <td>5421</td>\n",
       "      <td>3527</td>\n",
       "      <td>1275</td>\n",
       "      <td>...</td>\n",
       "      <td>0.722312</td>\n",
       "      <td>0.990833</td>\n",
       "      <td>58</td>\n",
       "      <td>57</td>\n",
       "      <td>115</td>\n",
       "      <td>1919229.726</td>\n",
       "      <td>1919229.726</td>\n",
       "      <td>1308834</td>\n",
       "      <td>33.86</td>\n",
       "      <td>1</td>\n",
       "    </tr>\n",
       "    <tr>\n",
       "      <th>4</th>\n",
       "      <td>9.213982e+18</td>\n",
       "      <td>728</td>\n",
       "      <td>397</td>\n",
       "      <td>1445</td>\n",
       "      <td>1433</td>\n",
       "      <td>340</td>\n",
       "      <td>2417</td>\n",
       "      <td>2962</td>\n",
       "      <td>1989</td>\n",
       "      <td>677</td>\n",
       "      <td>...</td>\n",
       "      <td>0.754929</td>\n",
       "      <td>1.090306</td>\n",
       "      <td>37</td>\n",
       "      <td>21</td>\n",
       "      <td>58</td>\n",
       "      <td>1185229.203</td>\n",
       "      <td>1185229.203</td>\n",
       "      <td>881253</td>\n",
       "      <td>35.20</td>\n",
       "      <td>1</td>\n",
       "    </tr>\n",
       "  </tbody>\n",
       "</table>\n",
       "<p>5 rows × 210 columns</p>\n",
       "</div>"
      ],
      "text/plain": [
       "     subject_id  lh_bankssts_area  lh_caudalanteriorcingulate_area  \\\n",
       "0  1.828198e+19              1006                              613   \n",
       "1  2.691648e+18              1143                              812   \n",
       "2  1.731217e+19              1374                              752   \n",
       "3  1.594193e+19               995                              330   \n",
       "4  9.213982e+18               728                              397   \n",
       "\n",
       "   lh_caudalmiddlefrontal_area  lh_cuneus_area  lh_entorhinal_area  \\\n",
       "0                         2249            1436                 518   \n",
       "1                         3064            1580                 558   \n",
       "2                         2315            1722                 405   \n",
       "3                         1984            1446                 462   \n",
       "4                         1445            1433                 340   \n",
       "\n",
       "   lh_fusiform_area  lh_inferiorparietal_area  lh_inferiortemporal_area  \\\n",
       "0              3659                      5147                      3496   \n",
       "1              3770                      5791                      4406   \n",
       "2              3401                      4870                      3677   \n",
       "3              3667                      5421                      3527   \n",
       "4              2417                      2962                      1989   \n",
       "\n",
       "   lh_isthmuscingulate_area ...   BrainSegVol-to-eTIV  MaskVol-to-eTIV  \\\n",
       "0                      1288 ...              0.815125         1.051112   \n",
       "1                      1167 ...              0.744308         0.998352   \n",
       "2                      1027 ...              0.793417         1.149984   \n",
       "3                      1275 ...              0.722312         0.990833   \n",
       "4                       677 ...              0.754929         1.090306   \n",
       "\n",
       "   lhSurfaceHoles  rhSurfaceHoles  SurfaceHoles  \\\n",
       "0              55              47           102   \n",
       "1              91              81           172   \n",
       "2              30              42            72   \n",
       "3              58              57           115   \n",
       "4              37              21            58   \n",
       "\n",
       "   EstimatedTotalIntraCranialVol         eTIV  BrainSegVolNotVent    age  asd  \n",
       "0                    1616394.387  1616394.387             1305905  13.37    1  \n",
       "1                    2048198.334  2048198.334             1492984  17.78    1  \n",
       "2                    1558102.769  1558102.769             1212515  32.45    1  \n",
       "3                    1919229.726  1919229.726             1308834  33.86    1  \n",
       "4                    1185229.203  1185229.203              881253  35.20    1  \n",
       "\n",
       "[5 rows x 210 columns]"
      ]
     },
     "execution_count": 4,
     "metadata": {},
     "output_type": "execute_result"
    }
   ],
   "source": [
    "data_anatomy[:5]"
   ]
  },
  {
   "cell_type": "code",
   "execution_count": 5,
   "metadata": {},
   "outputs": [],
   "source": [
    "df = pd.DataFrame(data_anatomy)"
   ]
  },
  {
   "cell_type": "code",
   "execution_count": 6,
   "metadata": {},
   "outputs": [
    {
     "data": {
      "text/plain": [
       "array([1, 0], dtype=int64)"
      ]
     },
     "execution_count": 6,
     "metadata": {},
     "output_type": "execute_result"
    }
   ],
   "source": [
    "df['asd'].unique()"
   ]
  },
  {
   "cell_type": "code",
   "execution_count": 7,
   "metadata": {},
   "outputs": [
    {
     "data": {
      "text/html": [
       "<div>\n",
       "<style scoped>\n",
       "    .dataframe tbody tr th:only-of-type {\n",
       "        vertical-align: middle;\n",
       "    }\n",
       "\n",
       "    .dataframe tbody tr th {\n",
       "        vertical-align: top;\n",
       "    }\n",
       "\n",
       "    .dataframe thead th {\n",
       "        text-align: right;\n",
       "    }\n",
       "</style>\n",
       "<table border=\"1\" class=\"dataframe\">\n",
       "  <thead>\n",
       "    <tr style=\"text-align: right;\">\n",
       "      <th></th>\n",
       "      <th>subject_id</th>\n",
       "      <th>lh_bankssts_area</th>\n",
       "      <th>lh_caudalanteriorcingulate_area</th>\n",
       "      <th>lh_caudalmiddlefrontal_area</th>\n",
       "      <th>lh_cuneus_area</th>\n",
       "      <th>lh_entorhinal_area</th>\n",
       "      <th>lh_fusiform_area</th>\n",
       "      <th>lh_inferiorparietal_area</th>\n",
       "      <th>lh_inferiortemporal_area</th>\n",
       "      <th>lh_isthmuscingulate_area</th>\n",
       "      <th>...</th>\n",
       "      <th>BrainSegVol-to-eTIV</th>\n",
       "      <th>MaskVol-to-eTIV</th>\n",
       "      <th>lhSurfaceHoles</th>\n",
       "      <th>rhSurfaceHoles</th>\n",
       "      <th>SurfaceHoles</th>\n",
       "      <th>EstimatedTotalIntraCranialVol</th>\n",
       "      <th>eTIV</th>\n",
       "      <th>BrainSegVolNotVent</th>\n",
       "      <th>age</th>\n",
       "      <th>asd</th>\n",
       "    </tr>\n",
       "  </thead>\n",
       "  <tbody>\n",
       "    <tr>\n",
       "      <th>266</th>\n",
       "      <td>3.545582e+18</td>\n",
       "      <td>849</td>\n",
       "      <td>597</td>\n",
       "      <td>2136</td>\n",
       "      <td>1814</td>\n",
       "      <td>663</td>\n",
       "      <td>3248</td>\n",
       "      <td>4569</td>\n",
       "      <td>4336</td>\n",
       "      <td>1285</td>\n",
       "      <td>...</td>\n",
       "      <td>0.753374</td>\n",
       "      <td>1.112065</td>\n",
       "      <td>30</td>\n",
       "      <td>24</td>\n",
       "      <td>54</td>\n",
       "      <td>1570574.879</td>\n",
       "      <td>1570574.879</td>\n",
       "      <td>1152739</td>\n",
       "      <td>50.2231</td>\n",
       "      <td>1</td>\n",
       "    </tr>\n",
       "    <tr>\n",
       "      <th>572</th>\n",
       "      <td>6.793222e+18</td>\n",
       "      <td>1041</td>\n",
       "      <td>587</td>\n",
       "      <td>2074</td>\n",
       "      <td>1833</td>\n",
       "      <td>425</td>\n",
       "      <td>3081</td>\n",
       "      <td>4595</td>\n",
       "      <td>3467</td>\n",
       "      <td>1223</td>\n",
       "      <td>...</td>\n",
       "      <td>0.786893</td>\n",
       "      <td>1.106310</td>\n",
       "      <td>73</td>\n",
       "      <td>51</td>\n",
       "      <td>124</td>\n",
       "      <td>1425500.852</td>\n",
       "      <td>1425500.852</td>\n",
       "      <td>1085717</td>\n",
       "      <td>52.0000</td>\n",
       "      <td>1</td>\n",
       "    </tr>\n",
       "    <tr>\n",
       "      <th>574</th>\n",
       "      <td>1.076352e+19</td>\n",
       "      <td>1136</td>\n",
       "      <td>679</td>\n",
       "      <td>2641</td>\n",
       "      <td>1317</td>\n",
       "      <td>527</td>\n",
       "      <td>3430</td>\n",
       "      <td>6410</td>\n",
       "      <td>4748</td>\n",
       "      <td>1266</td>\n",
       "      <td>...</td>\n",
       "      <td>0.751748</td>\n",
       "      <td>1.010412</td>\n",
       "      <td>72</td>\n",
       "      <td>95</td>\n",
       "      <td>167</td>\n",
       "      <td>1738550.974</td>\n",
       "      <td>1738550.974</td>\n",
       "      <td>1270798</td>\n",
       "      <td>58.0000</td>\n",
       "      <td>1</td>\n",
       "    </tr>\n",
       "    <tr>\n",
       "      <th>606</th>\n",
       "      <td>1.772087e+19</td>\n",
       "      <td>938</td>\n",
       "      <td>530</td>\n",
       "      <td>2485</td>\n",
       "      <td>1647</td>\n",
       "      <td>429</td>\n",
       "      <td>3268</td>\n",
       "      <td>4557</td>\n",
       "      <td>3947</td>\n",
       "      <td>1130</td>\n",
       "      <td>...</td>\n",
       "      <td>0.707953</td>\n",
       "      <td>1.059904</td>\n",
       "      <td>63</td>\n",
       "      <td>62</td>\n",
       "      <td>125</td>\n",
       "      <td>1844206.937</td>\n",
       "      <td>1844206.937</td>\n",
       "      <td>1257541</td>\n",
       "      <td>55.4000</td>\n",
       "      <td>1</td>\n",
       "    </tr>\n",
       "    <tr>\n",
       "      <th>627</th>\n",
       "      <td>4.875840e+18</td>\n",
       "      <td>951</td>\n",
       "      <td>639</td>\n",
       "      <td>2212</td>\n",
       "      <td>1129</td>\n",
       "      <td>481</td>\n",
       "      <td>3205</td>\n",
       "      <td>5324</td>\n",
       "      <td>3971</td>\n",
       "      <td>923</td>\n",
       "      <td>...</td>\n",
       "      <td>0.787721</td>\n",
       "      <td>1.127593</td>\n",
       "      <td>50</td>\n",
       "      <td>49</td>\n",
       "      <td>99</td>\n",
       "      <td>1521744.694</td>\n",
       "      <td>1521744.694</td>\n",
       "      <td>1178722</td>\n",
       "      <td>56.2000</td>\n",
       "      <td>0</td>\n",
       "    </tr>\n",
       "  </tbody>\n",
       "</table>\n",
       "<p>5 rows × 210 columns</p>\n",
       "</div>"
      ],
      "text/plain": [
       "       subject_id  lh_bankssts_area  lh_caudalanteriorcingulate_area  \\\n",
       "266  3.545582e+18               849                              597   \n",
       "572  6.793222e+18              1041                              587   \n",
       "574  1.076352e+19              1136                              679   \n",
       "606  1.772087e+19               938                              530   \n",
       "627  4.875840e+18               951                              639   \n",
       "\n",
       "     lh_caudalmiddlefrontal_area  lh_cuneus_area  lh_entorhinal_area  \\\n",
       "266                         2136            1814                 663   \n",
       "572                         2074            1833                 425   \n",
       "574                         2641            1317                 527   \n",
       "606                         2485            1647                 429   \n",
       "627                         2212            1129                 481   \n",
       "\n",
       "     lh_fusiform_area  lh_inferiorparietal_area  lh_inferiortemporal_area  \\\n",
       "266              3248                      4569                      4336   \n",
       "572              3081                      4595                      3467   \n",
       "574              3430                      6410                      4748   \n",
       "606              3268                      4557                      3947   \n",
       "627              3205                      5324                      3971   \n",
       "\n",
       "     lh_isthmuscingulate_area ...   BrainSegVol-to-eTIV  MaskVol-to-eTIV  \\\n",
       "266                      1285 ...              0.753374         1.112065   \n",
       "572                      1223 ...              0.786893         1.106310   \n",
       "574                      1266 ...              0.751748         1.010412   \n",
       "606                      1130 ...              0.707953         1.059904   \n",
       "627                       923 ...              0.787721         1.127593   \n",
       "\n",
       "     lhSurfaceHoles  rhSurfaceHoles  SurfaceHoles  \\\n",
       "266              30              24            54   \n",
       "572              73              51           124   \n",
       "574              72              95           167   \n",
       "606              63              62           125   \n",
       "627              50              49            99   \n",
       "\n",
       "     EstimatedTotalIntraCranialVol         eTIV  BrainSegVolNotVent      age  \\\n",
       "266                    1570574.879  1570574.879             1152739  50.2231   \n",
       "572                    1425500.852  1425500.852             1085717  52.0000   \n",
       "574                    1738550.974  1738550.974             1270798  58.0000   \n",
       "606                    1844206.937  1844206.937             1257541  55.4000   \n",
       "627                    1521744.694  1521744.694             1178722  56.2000   \n",
       "\n",
       "     asd  \n",
       "266    1  \n",
       "572    1  \n",
       "574    1  \n",
       "606    1  \n",
       "627    0  \n",
       "\n",
       "[5 rows x 210 columns]"
      ]
     },
     "execution_count": 7,
     "metadata": {},
     "output_type": "execute_result"
    }
   ],
   "source": [
    "df[df['age']> 50].head()"
   ]
  },
  {
   "cell_type": "code",
   "execution_count": 8,
   "metadata": {},
   "outputs": [
    {
     "data": {
      "text/plain": [
       "<matplotlib.figure.Figure at 0x1dc55479630>"
      ]
     },
     "metadata": {},
     "output_type": "display_data"
    }
   ],
   "source": [
    "import matplotlib.pyplot as plt\n",
    "from matplotlib.pyplot import  savefig\n",
    "\n",
    "data_age_asd = pd.DataFrame(data_anatomy, columns=['age', 'asd'])\n",
    "data_age_asd.plot(kind='density', subplots=True, sharex=False)\n",
    "plt.show()"
   ]
  },
  {
   "cell_type": "code",
   "execution_count": 9,
   "metadata": {},
   "outputs": [],
   "source": [
    "from pandas.plotting import scatter_matrix"
   ]
  },
  {
   "cell_type": "code",
   "execution_count": 10,
   "metadata": {},
   "outputs": [
    {
     "data": {
      "image/png": "[encoded data removed]",
      "text/plain": [
       "<matplotlib.figure.Figure at 0x1dc59163a20>"
      ]
     },
     "metadata": {},
     "output_type": "display_data"
    }
   ],
   "source": [
    "data_params = pd.DataFrame(data_anatomy, columns=[\"age\"])\n",
    "scatter_matrix(data_params, alpha=0.2, figsize=(10,10), diagonal='kde')\n",
    "\n",
    "savefig('foo.png')"
   ]
  },
  {
   "cell_type": "code",
   "execution_count": 11,
   "metadata": {},
   "outputs": [
    {
     "data": {
      "text/plain": [
       "(1150, 209)"
      ]
     },
     "execution_count": 11,
     "metadata": {},
     "output_type": "execute_result"
    }
   ],
   "source": [
    "X = df[df.columns.difference(['asd',''])]\n",
    "X.shape"
   ]
  },
  {
   "cell_type": "code",
   "execution_count": 12,
   "metadata": {},
   "outputs": [
    {
     "data": {
      "text/plain": [
       "(1150,)"
      ]
     },
     "execution_count": 12,
     "metadata": {},
     "output_type": "execute_result"
    }
   ],
   "source": [
    "y = df['asd']\n",
    "y.shape"
   ]
  },
  {
   "cell_type": "code",
   "execution_count": 13,
   "metadata": {},
   "outputs": [],
   "source": [
    "from sklearn import datasets, linear_model, model_selection, svm\n",
    "from sklearn.ensemble import RandomForestClassifier"
   ]
  },
  {
   "cell_type": "code",
   "execution_count": null,
   "metadata": {},
   "outputs": [],
   "source": []
  },
  {
   "cell_type": "code",
   "execution_count": 14,
   "metadata": {},
   "outputs": [],
   "source": [
    "X_train, X_test, y_train, y_test = model_selection.train_test_split(df, y, test_size=0.2)"
   ]
  },
  {
   "cell_type": "code",
   "execution_count": 15,
   "metadata": {},
   "outputs": [
    {
     "name": "stdout",
     "output_type": "stream",
     "text": [
      "(920, 210) (920,)\n",
      "(230, 210) (230,)\n"
     ]
    }
   ],
   "source": [
    "print (X_train.shape, y_train.shape)\n",
    "print (X_test.shape, y_test.shape)"
   ]
  },
  {
   "cell_type": "code",
   "execution_count": 16,
   "metadata": {},
   "outputs": [],
   "source": [
    "lm = linear_model.LinearRegression()\n",
    "model = lm.fit(X_train, y_train)\n",
    "predictions = lm.predict(X_test)"
   ]
  },
  {
   "cell_type": "code",
   "execution_count": 17,
   "metadata": {},
   "outputs": [
    {
     "data": {
      "text/plain": [
       "array([0.52171567, 0.41390081, 0.54562692, 0.47606413, 0.52976674])"
      ]
     },
     "execution_count": 17,
     "metadata": {},
     "output_type": "execute_result"
    }
   ],
   "source": [
    "predictions[:5]"
   ]
  },
  {
   "cell_type": "code",
   "execution_count": 18,
   "metadata": {},
   "outputs": [
    {
     "data": {
      "text/plain": [
       "0.010980073375152388"
      ]
     },
     "execution_count": 18,
     "metadata": {},
     "output_type": "execute_result"
    }
   ],
   "source": [
    "model.score(X_test, y_test)"
   ]
  },
  {
   "cell_type": "code",
   "execution_count": 30,
   "metadata": {},
   "outputs": [],
   "source": [
    "features = df.columns\n",
    "features\n",
    "x_features = df.drop('asd', 1)"
   ]
  },
  {
   "cell_type": "code",
   "execution_count": 31,
   "metadata": {},
   "outputs": [
    {
     "data": {
      "text/plain": [
       "Index(['subject_id', 'lh_bankssts_area', 'lh_caudalanteriorcingulate_area',\n",
       "       'lh_caudalmiddlefrontal_area', 'lh_cuneus_area', 'lh_entorhinal_area',\n",
       "       'lh_fusiform_area', 'lh_inferiorparietal_area',\n",
       "       'lh_inferiortemporal_area', 'lh_isthmuscingulate_area',\n",
       "       ...\n",
       "       'MaskVol', 'BrainSegVol-to-eTIV', 'MaskVol-to-eTIV', 'lhSurfaceHoles',\n",
       "       'rhSurfaceHoles', 'SurfaceHoles', 'EstimatedTotalIntraCranialVol',\n",
       "       'eTIV', 'BrainSegVolNotVent', 'age'],\n",
       "      dtype='object', length=209)"
      ]
     },
     "execution_count": 31,
     "metadata": {},
     "output_type": "execute_result"
    }
   ],
   "source": [
    "(x_features.columns)"
   ]
  },
  {
   "cell_type": "code",
   "execution_count": 32,
   "metadata": {},
   "outputs": [
    {
     "data": {
      "text/plain": [
       "(920,)"
      ]
     },
     "execution_count": 32,
     "metadata": {},
     "output_type": "execute_result"
    }
   ],
   "source": [
    "y = X_train['asd']\n",
    "y.shape"
   ]
  },
  {
   "cell_type": "code",
   "execution_count": 34,
   "metadata": {},
   "outputs": [
    {
     "data": {
      "text/plain": [
       "RandomForestClassifier(bootstrap=True, class_weight=None, criterion='gini',\n",
       "            max_depth=None, max_features='auto', max_leaf_nodes=None,\n",
       "            min_impurity_decrease=0.0, min_impurity_split=None,\n",
       "            min_samples_leaf=1, min_samples_split=2,\n",
       "            min_weight_fraction_leaf=0.0, n_estimators=10, n_jobs=-1,\n",
       "            oob_score=False, random_state=0, verbose=0, warm_start=False)"
      ]
     },
     "execution_count": 34,
     "metadata": {},
     "output_type": "execute_result"
    }
   ],
   "source": [
    "clf = RandomForestClassifier(n_estimators=10,n_jobs=-1, random_state=0)\n",
    "clf.fit(X_train[features], y_train)"
   ]
  },
  {
   "cell_type": "code",
   "execution_count": 35,
   "metadata": {},
   "outputs": [
    {
     "data": {
      "text/plain": [
       "array([0, 1, 0, 0, 0, 1, 1, 0, 0, 0, 1, 0, 0, 1, 0, 0, 1, 0, 0, 1, 1, 0,\n",
       "       0, 0, 0, 1, 1, 0, 1, 1, 0, 0, 0, 0, 0, 0, 0, 1, 1, 0, 1, 0, 0, 1,\n",
       "       1, 0, 1, 1, 0, 1, 0, 0, 1, 0, 1, 1, 0, 1, 1, 0, 0, 0, 1, 1, 0, 1,\n",
       "       1, 1, 1, 1, 1, 1, 1, 0, 0, 1, 0, 1, 0, 1, 0, 0, 0, 0, 0, 1, 0, 1,\n",
       "       0, 0, 1, 1, 0, 1, 0, 1, 0, 0, 0, 0, 0, 0, 1, 1, 0, 1, 0, 1, 1, 0,\n",
       "       0, 1, 0, 1, 0, 0, 0, 1, 1, 0, 1, 1, 1, 1, 0, 0, 1, 0, 1, 0, 0, 0,\n",
       "       1, 0, 1, 1, 0, 0, 0, 0, 0, 0, 1, 0, 1, 1, 1, 0, 1, 1, 0, 1, 1, 0,\n",
       "       1, 0, 1, 1, 0, 0, 1, 0, 1, 0, 1, 0, 1, 0, 1, 0, 0, 1, 1, 1, 0, 1,\n",
       "       1, 0, 0, 1, 0, 0, 0, 1, 0, 1, 1, 0, 0, 1, 1, 1, 0, 1, 1, 0, 1, 0,\n",
       "       1, 0, 1, 1, 1, 0, 1, 0, 0, 1, 0, 1, 0, 1, 0, 1, 0, 0, 1, 1, 0, 1,\n",
       "       0, 1, 0, 1, 0, 0, 1, 0, 0, 0], dtype=int64)"
      ]
     },
     "execution_count": 35,
     "metadata": {},
     "output_type": "execute_result"
    }
   ],
   "source": [
    "clf.predict(X_test[features])"
   ]
  },
  {
   "cell_type": "code",
   "execution_count": 37,
   "metadata": {},
   "outputs": [
    {
     "data": {
      "text/plain": [
       "array([[0.7, 0.3],\n",
       "       [0.3, 0.7],\n",
       "       [1. , 0. ],\n",
       "       [0.9, 0.1],\n",
       "       [0.8, 0.2],\n",
       "       [0.1, 0.9],\n",
       "       [0.4, 0.6],\n",
       "       [0.9, 0.1],\n",
       "       [0.8, 0.2],\n",
       "       [0.8, 0.2]])"
      ]
     },
     "execution_count": 37,
     "metadata": {},
     "output_type": "execute_result"
    }
   ],
   "source": [
    "clf.predict_proba(X_test[features])[0:10]"
   ]
  },
  {
   "cell_type": "code",
   "execution_count": 38,
   "metadata": {},
   "outputs": [],
   "source": [
    "preds = clf.predict(X_test[features])"
   ]
  },
  {
   "cell_type": "code",
   "execution_count": 40,
   "metadata": {},
   "outputs": [
    {
     "data": {
      "text/html": [
       "<div>\n",
       "<style scoped>\n",
       "    .dataframe tbody tr th:only-of-type {\n",
       "        vertical-align: middle;\n",
       "    }\n",
       "\n",
       "    .dataframe tbody tr th {\n",
       "        vertical-align: top;\n",
       "    }\n",
       "\n",
       "    .dataframe thead th {\n",
       "        text-align: right;\n",
       "    }\n",
       "</style>\n",
       "<table border=\"1\" class=\"dataframe\">\n",
       "  <thead>\n",
       "    <tr style=\"text-align: right;\">\n",
       "      <th>Predicted asd</th>\n",
       "      <th>0</th>\n",
       "      <th>1</th>\n",
       "    </tr>\n",
       "    <tr>\n",
       "      <th>Actual asd</th>\n",
       "      <th></th>\n",
       "      <th></th>\n",
       "    </tr>\n",
       "  </thead>\n",
       "  <tbody>\n",
       "    <tr>\n",
       "      <th>0</th>\n",
       "      <td>117</td>\n",
       "      <td>1</td>\n",
       "    </tr>\n",
       "    <tr>\n",
       "      <th>1</th>\n",
       "      <td>5</td>\n",
       "      <td>107</td>\n",
       "    </tr>\n",
       "  </tbody>\n",
       "</table>\n",
       "</div>"
      ],
      "text/plain": [
       "Predicted asd    0    1\n",
       "Actual asd             \n",
       "0              117    1\n",
       "1                5  107"
      ]
     },
     "execution_count": 40,
     "metadata": {},
     "output_type": "execute_result"
    }
   ],
   "source": [
    "pd.crosstab(X_test['asd'], preds, rownames=['Actual asd'], colnames=['Predicted asd'])"
   ]
  },
  {
   "cell_type": "code",
   "execution_count": 41,
   "metadata": {},
   "outputs": [
    {
     "name": "stdout",
     "output_type": "stream",
     "text": [
      "Train Accuracy ::  0.9989130434782608\n",
      "Test Accuracy  ::  0.9739130434782609\n",
      " Confusion matrix  [[117   1]\n",
      " [  5 107]]\n"
     ]
    }
   ],
   "source": [
    "from sklearn.metrics import accuracy_score, confusion_matrix\n",
    "\n",
    "print (\"Train Accuracy :: \", accuracy_score(y_train, clf.predict(X_train)))\n",
    "print (\"Test Accuracy  :: \", accuracy_score(y_test, preds))\n",
    "print (\" Confusion matrix \", confusion_matrix(y_test, preds))"
   ]
  },
  {
   "cell_type": "code",
   "execution_count": 110,
   "metadata": {},
   "outputs": [],
   "source": [
    "# from sklearn.ensemble import RandomForestRegressor\n",
    "# rf = RandomForestRegressor()\n",
    "# rf.fit(X_train, y_train)"
   ]
  },
  {
   "cell_type": "code",
   "execution_count": 42,
   "metadata": {},
   "outputs": [
    {
     "name": "stdout",
     "output_type": "stream",
     "text": [
      "[(0.0166, '3rd-Ventricle'), (0.0165, 'CC_Mid_Anterior'), (0.0109, 'WM-hypointensities'), (0.0097, 'rh_rostralmiddlefrontal_area'), (0.0097, 'lh_WhiteSurfArea_area'), (0.0092, 'rh_entorhinal_thickness'), (0.0086, 'lh_insula_area'), (0.0074, 'rh_frontalpole_area'), (0.0074, 'rh_caudalanteriorcingulate_area'), (0.0073, 'lh_paracentral_area'), (0.0072, 'Left-Lateral-Ventricle'), (0.007, 'rh_lingual_area'), (0.0069, 'lh_cuneus_thickness'), (0.0067, 'age'), (0.0067, 'Left-Inf-Lat-Vent'), (0.0064, 'rhSurfaceHoles'), (0.0064, 'lh_rostralanteriorcingulate_area'), (0.0061, 'lh_lingual_thickness'), (0.006, 'lh_superiorfrontal_thickness'), (0.0058, 'rh_medialorbitofrontal_thickness'), (0.0057, 'rh_medialorbitofrontal_area'), (0.0057, 'Right-Thalamus-Proper'), (0.0057, 'Left-vessel'), (0.0056, 'Right-Cerebellum-Cortex'), (0.0055, 'lh_supramarginal_area'), (0.0055, 'lh_rostralanteriorcingulate_thickness'), (0.0054, 'rh_rostralanteriorcingulate_area'), (0.0054, 'lh_parsorbitalis_thickness'), (0.0052, 'rh_pericalcarine_area'), (0.005, 'rh_superiortemporal_area'), (0.005, 'rh_fusiform_thickness'), (0.005, 'Optic-Chiasm'), (0.0048, 'rhCerebralWhiteMatterVol'), (0.0048, 'CC_Posterior'), (0.0047, 'rh_rostralanteriorcingulate_thickness'), (0.0047, 'lh_posteriorcingulate_area'), (0.0047, 'lh_lingual_area'), (0.0046, 'rh_transversetemporal_area'), (0.0045, 'lh_caudalanteriorcingulate_area'), (0.0045, 'MaskVol'), (0.0043, 'rh_pericalcarine_thickness'), (0.0043, 'lhCerebralWhiteMatterVol'), (0.0043, 'Brain-Stem'), (0.0041, 'BrainSegVol-to-eTIV'), (0.004, 'subject_id'), (0.004, 'lh_postcentral_area'), (0.0039, 'rh_isthmuscingulate_thickness'), (0.0039, 'lh_transversetemporal_area'), (0.0037, 'rh_parstriangularis_thickness'), (0.0037, 'lh_rostralmiddlefrontal_thickness'), (0.0036, 'rh_superiorfrontal_area'), (0.0036, 'Left-Amygdala'), (0.0035, 'rh_parsopercularis_thickness'), (0.0035, 'lh_medialorbitofrontal_thickness'), (0.0034, 'rh_rostralmiddlefrontal_thickness'), (0.0034, 'rh_lateraloccipital_area'), (0.0034, 'rh_bankssts_area'), (0.0034, 'Right-Putamen'), (0.0033, 'lh_temporalpole_thickness'), (0.0032, 'rh_supramarginal_area'), (0.0032, 'lh_isthmuscingulate_thickness'), (0.0031, 'rh_parahippocampal_thickness'), (0.0031, 'lh_frontalpole_thickness'), (0.0031, 'lh_caudalmiddlefrontal_thickness'), (0.0031, 'Right-Hippocampus'), (0.003, 'rh_parsorbitalis_thickness'), (0.003, 'rh_isthmuscingulate_area'), (0.003, 'rh_caudalmiddlefrontal_thickness'), (0.003, 'lh_lateralorbitofrontal_thickness'), (0.003, 'lh_MeanThickness_thickness'), (0.0029, 'rh_caudalanteriorcingulate_thickness'), (0.0029, 'TotalGrayVol'), (0.0028, 'rh_superiorparietal_thickness'), (0.0028, 'rh_middletemporal_area'), (0.0028, 'lh_pericalcarine_area'), (0.0028, 'Left-Thalamus-Proper'), (0.0028, 'CC_Central'), (0.0027, 'rh_supramarginal_thickness'), (0.0027, 'Left-Putamen'), (0.0027, 'CortexVol'), (0.0026, 'lh_parahippocampal_thickness'), (0.0026, 'Right-Inf-Lat-Vent'), (0.0026, 'Right-Accumbens-area'), (0.0025, 'rh_lateralorbitofrontal_thickness'), (0.0025, 'lh_supramarginal_thickness'), (0.0024, 'rh_precuneus_thickness'), (0.0024, 'lh_parstriangularis_area'), (0.0023, 'rh_temporalpole_thickness'), (0.0023, 'rh_frontalpole_thickness'), (0.0023, 'lh_transversetemporal_thickness'), (0.0023, 'lh_pericalcarine_thickness'), (0.0023, 'lh_lateralorbitofrontal_area'), (0.0023, 'lh_entorhinal_area'), (0.0023, 'Right-choroid-plexus'), (0.0023, 'MaskVol-to-eTIV'), (0.0023, '4th-Ventricle'), (0.0022, 'rh_inferiortemporal_thickness'), (0.0022, 'lh_paracentral_thickness'), (0.0022, 'lh_inferiorparietal_area'), (0.0022, 'lh_cuneus_area'), (0.0022, 'SupraTentorialVol'), (0.0022, 'EstimatedTotalIntraCranialVol'), (0.0021, 'rh_superiorfrontal_thickness'), (0.0021, 'rh_inferiorparietal_thickness'), (0.0021, 'rh_entorhinal_area'), (0.0021, 'rh_cuneus_thickness'), (0.0021, 'lh_precentral_thickness'), (0.0021, 'lh_fusiform_thickness'), (0.0021, 'Right-Cerebellum-White-Matter'), (0.0021, 'Left-choroid-plexus'), (0.0021, 'Left-Hippocampus'), (0.0021, 'Left-Cerebellum-White-Matter'), (0.002, 'rh_posteriorcingulate_area'), (0.002, 'lh_middletemporal_area'), (0.002, 'lh_isthmuscingulate_area'), (0.002, 'SubCortGrayVol'), (0.002, 'Right-VentralDC'), (0.0019, 'lh_superiortemporal_thickness'), (0.0019, 'lhCortexVol'), (0.0019, 'Right-Lateral-Ventricle'), (0.0019, 'CerebralWhiteMatterVol'), (0.0018, 'rh_parsopercularis_area'), (0.0018, 'rh_middletemporal_thickness'), (0.0018, 'rh_cuneus_area'), (0.0018, 'lh_precuneus_area'), (0.0018, 'lh_middletemporal_thickness'), (0.0017, 'rh_inferiortemporal_area'), (0.0017, 'lh_precentral_area'), (0.0017, 'SupraTentorialVolNotVent'), (0.0016, 'rh_temporalpole_area'), (0.0016, 'rh_precentral_area'), (0.0016, 'rh_bankssts_thickness'), (0.0016, 'lh_entorhinal_thickness'), (0.0015, 'rh_parstriangularis_area'), (0.0015, 'rh_inferiorparietal_area'), (0.0015, 'lh_inferiorparietal_thickness'), (0.0015, 'Right-Pallidum'), (0.0014, 'rh_precuneus_area'), (0.0014, 'rh_caudalmiddlefrontal_area'), (0.0014, 'lh_parahippocampal_area'), (0.0014, 'lh_inferiortemporal_thickness'), (0.0014, 'lh_fusiform_area'), (0.0014, 'Right-vessel'), (0.0013, 'rh_transversetemporal_thickness'), (0.0013, 'lh_lateraloccipital_thickness'), (0.0013, 'lh_insula_thickness'), (0.0013, 'Right-Amygdala'), (0.0013, 'Left-Cerebellum-Cortex'), (0.0013, 'BrainSegVolNotVent'), (0.0013, 'BrainSegVol'), (0.0012, 'lh_precuneus_thickness'), (0.0012, 'lh_postcentral_thickness'), (0.0012, 'lh_bankssts_area'), (0.0012, 'SurfaceHoles'), (0.0011, 'lh_superiorparietal_area'), (0.0011, 'lh_bankssts_thickness'), (0.0011, 'Left-Pallidum'), (0.001, 'rh_postcentral_thickness'), (0.001, 'lh_lateraloccipital_area'), (0.001, 'lh_caudalanteriorcingulate_thickness'), (0.001, 'Left-Accumbens-area'), (0.0009, 'rh_superiorparietal_area'), (0.0009, 'rh_lateraloccipital_thickness'), (0.0009, 'rh_insula_thickness'), (0.0009, 'lh_superiorfrontal_area'), (0.0009, 'lh_parsopercularis_thickness'), (0.0009, 'SupraTentorialVolNotVentVox'), (0.0009, 'Right-Caudate'), (0.0009, 'CSF'), (0.0008, 'rhCortexVol'), (0.0008, 'lh_parstriangularis_thickness'), (0.0008, 'CC_Anterior'), (0.0007, 'rh_lateralorbitofrontal_area'), (0.0007, 'rh_WhiteSurfArea_area'), (0.0007, 'lh_superiortemporal_area'), (0.0007, 'lh_parsopercularis_area'), (0.0007, 'Left-VentralDC'), (0.0006, 'eTIV'), (0.0005, 'lh_rostralmiddlefrontal_area'), (0.0005, 'lh_parsorbitalis_area'), (0.0005, 'BrainSegVolNotVentSurf'), (0.0005, '5th-Ventricle'), (0.0004, 'rh_paracentral_thickness'), (0.0004, 'rh_lingual_thickness'), (0.0004, 'lhSurfaceHoles'), (0.0004, 'CC_Mid_Posterior'), (0.0003, 'rh_parahippocampal_area'), (0.0003, 'rh_fusiform_area'), (0.0003, 'rh_MeanThickness_thickness'), (0.0002, 'lh_posteriorcingulate_thickness'), (0.0002, 'lh_inferiortemporal_area'), (0.0, 'rh_superiortemporal_thickness'), (0.0, 'rh_precentral_thickness'), (0.0, 'rh_posteriorcingulate_thickness'), (0.0, 'rh_postcentral_area'), (0.0, 'rh_parsorbitalis_area'), (0.0, 'rh_paracentral_area'), (0.0, 'rh_insula_area'), (0.0, 'non-WM-hypointensities'), (0.0, 'lh_temporalpole_area'), (0.0, 'lh_superiorparietal_thickness'), (0.0, 'lh_medialorbitofrontal_area'), (0.0, 'lh_frontalpole_area'), (0.0, 'lh_caudalmiddlefrontal_area'), (0.0, 'Right-non-WM-hypointensities'), (0.0, 'Right-WM-hypointensities'), (0.0, 'Left-non-WM-hypointensities'), (0.0, 'Left-WM-hypointensities'), (0.0, 'Left-Caudate')]\n"
     ]
    }
   ],
   "source": [
    "print (sorted(zip(map(lambda x: round(x, 4), clf.feature_importances_), x_features), \n",
    "             reverse=True))"
   ]
  }
 ],
 "metadata": {
  "kernelspec": {
   "display_name": "Python 3",
   "language": "python",
   "name": "python3"
  },
  "language_info": {
   "codemirror_mode": {
    "name": "ipython",
    "version": 3
   },
   "file_extension": ".py",
   "mimetype": "text/x-python",
   "name": "python",
   "nbconvert_exporter": "python",
   "pygments_lexer": "ipython3",
   "version": "3.6.4"
  }
 },
 "nbformat": 4,
 "nbformat_minor": 2
}
